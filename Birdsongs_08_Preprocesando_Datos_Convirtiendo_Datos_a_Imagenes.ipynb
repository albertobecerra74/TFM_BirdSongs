{
 "cells": [
  {
   "cell_type": "markdown",
   "metadata": {},
   "source": [
    "## Birdsongs 08.- Preprocesando Datos - Convirtiendo Datos a Imágenes\n",
    "\n",
    "\n",
    "Convierte cada uno de los ficheros de datos en espectrogramas, para utilizarlas posteriormente en el entrenamiento del modelo.\n",
    "Un espectrograma es un formato común de representación de audio, donde se muestra un gráfico de dos dimensiones, donde el eje X representa el tiempo, el eje Y representa las frecuencias y los colores representan una tercera dimensión correspondiente a la energía.\n",
    "\n",
    ">El [**espectrograma**](https://es.wikipedia.org/wiki/Espectrograma) consiste en coger un determinado número de muestras por medio de una ventana temporal, con un tamaño concreto, según el tipo de análisis que se haga de la señal, armónico o resonante, la ventana deberá tener un tamaño determinado. A continuación se hace el cálculo del contenido frecuencial de las muestras puestas en ventana, y se representan en una gráfica en tres dimensiones.\n",
    "\n",
    "![directorio](./resources/spectrogram.png)\n",
    "\n",
    "\n",
    "Un tipo concreto de espectrograma es el de [**mel**](https://www.quora.com/How-do-I-use-mel-spectrogram-as-the-input-of-a-CNN), que ajusta los bines de frecuencias a aquellos que percibimos a través del oído. Se suele usar en la mayoría de casos de reconocimiento de voz, ya que se asemeja más a como realmente oímos los humanos. \n",
    "\n",
    "\n",
    "Al tratarse de imágenes, pueden ser utilizadas para el entrenamiento de modelos utilizando redes neuronales convolucionales. Se han dado buenos resultados en modelos de reconocimiento de audios y de voz en humanos, y también se ha utilizado para la identificación de audios de aves.\n",
    "\n",
    "* https://stackoverflow.com/questions/22471072/convolutional-neural-network-cnn-for-audio\n",
    "* https://spark-in.me/post/bird-voice-recognition-five\n",
    "* https://www.kdnuggets.com/2017/12/audio-classifier-deep-neural-networks.html\n",
    "\n",
    "El resultado de este notebook es un repositorio de destino con los datos convertidos en imágenes. Si se corta el proceso, se puede volver a lanzar y continua generando el resto de imagenes que le falten.\n",
    "\n",
    "Pueden tratarse los espectrogramas en formato array numpy generados por los notebooks:\n",
    "* Birdsongs_06_Preprocesando_Datos_Convirtiendo_Audio_a_Datos\n",
    "* Birdsongs_07_Preprocesando_Datos_Cortando_Datos\n",
    "\n"
   ]
  },
  {
   "cell_type": "markdown",
   "metadata": {},
   "source": [
    "## 1.- Librerías\n",
    "\n",
    "Cargamos las librerías a utilizar en el notebook.\n",
    "\n",
    "Para la generación de los espectrogramas vamos a utilizar [**libROsa**](http://librosa.github.io/librosa/). Es una librería que nos permite convertir los audios en datos, y a su vez, transformarlos en información útil en el campo de análisis de señales: oscilogramas, espectrogramas, MFCC,...\n",
    "\n",
    "> LibROSA is a python package for music and audio analysis. It provides the building blocks necessary to create music information retrieval systems.\n",
    "\n",
    "      conda install -c conda-forge librosa "
   ]
  },
  {
   "cell_type": "code",
   "execution_count": null,
   "metadata": {},
   "outputs": [],
   "source": [
    "# importar librerías\n",
    "import numpy as np\n",
    "import librosa\n",
    "import librosa.display\n",
    "import os\n"
   ]
  },
  {
   "cell_type": "markdown",
   "metadata": {},
   "source": [
    "## 2.- Funciones\n",
    "\n",
    "Funciones comunes utilizadas en el notebook"
   ]
  },
  {
   "cell_type": "markdown",
   "metadata": {},
   "source": [
    "### Recupera directorios\n",
    "\n",
    "Los ficheros de datos se encuentran localizados en un directorio raíz, y dentro del correspondiente subdirectorio al que pertenece la especie. Realizando un dir de los directorios contenidos en el directorio raíz, tendremos una lista con todas las especies que forman parte del dataset\n"
   ]
  },
  {
   "cell_type": "code",
   "execution_count": 2,
   "metadata": {},
   "outputs": [],
   "source": [
    "#----------------------------------------------------------------------------\n",
    "# get_specie_names(path)\n",
    "#  argumentos: \n",
    "#      path: directorio de datos\n",
    "#----------------------------------------------------------------------------\n",
    "def get_specie_names(path):  \n",
    "    specie_names = os.listdir(path)\n",
    "    return specie_names"
   ]
  },
  {
   "cell_type": "markdown",
   "metadata": {},
   "source": [
    "### Procesa ficheros de datos\n",
    "\n",
    "Va procesando los ficheros de datos que existen en cada subdirectorio y va generando imágenes de los espectrogramas, guardando estos en el un directorio local de destino\n"
   ]
  },
  {
   "cell_type": "code",
   "execution_count": 3,
   "metadata": {},
   "outputs": [],
   "source": [
    "#----------------------------------------------------------------------------\n",
    "# data_to_image(datapath, imagepath)\n",
    "#  argumentos: \n",
    "#      datapath: repositorio de datos origen\n",
    "#      imagepath: repositorio destino de imagenes\n",
    "#----------------------------------------------------------------------------\n",
    "def data_to_image(datapath, imagepath):\n",
    "    # crea el directorio raiz de datos si no existe\n",
    "    if not os.path.exists(imagepath):\n",
    "        os.mkdir(imagepath)\n",
    "\n",
    "    # recupera la lista de especies (directorios) a tratar\n",
    "    specie_names = get_specie_names(datapath)\n",
    "    number_species = len(specie_names)\n",
    "   \n",
    "    # itera sobre cada directorio y va generando una imagen por cada fichero\n",
    "    for idx, specie_name in enumerate(specie_names):\n",
    "        # crea directorio destino de la especie, si no existe\n",
    "        imagedir = os.path.join(imagepath, specie_name)\n",
    "        if not os.path.exists(imagedir):\n",
    "            os.mkdir(imagedir)\n",
    "\n",
    "        # recupera los ficheros de datos existentes para esta especie\n",
    "        specie_dir = os.path.join(datapath, specie_name)\n",
    "        specie_files = os.listdir(specie_dir)\n",
    "        number_files = len(specie_files)\n",
    "        number_load = number_files\n",
    "        \n",
    "        print(' Specie name = {:14s} - {:3d}'.format(specie_name,idx),\n",
    "               \", \",number_files,\" files in this specie\", sep=\" \", end='\\r', flush=True)\n",
    "\n",
    "        # itera sobre la lista de ficheros de datos recuperados\n",
    "        printevery = 20\n",
    "        \n",
    "        for idx2, infilename in enumerate(specie_files):\n",
    "            # fichero datos origen\n",
    "            file_path = specie_dir + '/' + infilename\n",
    "            file = np.load(file_path)\n",
    "\n",
    "            # si no se ha generado previamente, procedemos a generarlo    \n",
    "            imagefile = imagedir + '/' + infilename[:infilename.find('.')] + '.png'\n",
    "            \n",
    "            if not os.path.isfile(imagefile):\n",
    "                image = librosa.display.specshow(file)\n",
    "                image.figure.savefig(imagefile)\n",
    "                image.clear()\n",
    "                \n",
    "            # muestra avance\n",
    "            if (0 == idx2 % printevery):\n",
    "                print('\\r Processing specie: {:14s} ({:2d} of {:2d} species)'.format(specie_name,idx+1,number_species),\n",
    "                       \", file \",idx2+1,\" of \",number_load,\": \",file_path, sep=\" \", end='\\r', flush=True)\n"
   ]
  },
  {
   "cell_type": "markdown",
   "metadata": {},
   "source": [
    "## 3.- Genera imágenes\n",
    "\n",
    "Convierte los archivos de datos de un directorio en imagenes con formato png y las guardamos en un directorio local de destino"
   ]
  },
  {
   "cell_type": "code",
   "execution_count": null,
   "metadata": {
    "scrolled": true
   },
   "outputs": [],
   "source": [
    "# repositorio fuente de datos\n",
    "datapath= './data/mels'\n",
    "\n",
    "# repositorio destino de imágenes\n",
    "imagepath = './image/mels'\n",
    "\n",
    "# genera imágenes\n",
    "data_to_image(datapath, imagepath)\n",
    "    "
   ]
  },
  {
   "cell_type": "code",
   "execution_count": null,
   "metadata": {},
   "outputs": [],
   "source": []
  },
  {
   "cell_type": "code",
   "execution_count": null,
   "metadata": {},
   "outputs": [],
   "source": []
  }
 ],
 "metadata": {
  "kernelspec": {
   "display_name": "Python 3",
   "language": "python",
   "name": "python3"
  },
  "language_info": {
   "codemirror_mode": {
    "name": "ipython",
    "version": 3
   },
   "file_extension": ".py",
   "mimetype": "text/x-python",
   "name": "python",
   "nbconvert_exporter": "python",
   "pygments_lexer": "ipython3",
   "version": "3.6.7"
  }
 },
 "nbformat": 4,
 "nbformat_minor": 2
}
