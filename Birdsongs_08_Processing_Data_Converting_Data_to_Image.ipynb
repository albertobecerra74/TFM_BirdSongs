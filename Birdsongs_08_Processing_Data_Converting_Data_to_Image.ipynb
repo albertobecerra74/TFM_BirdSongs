{
 "cells": [
  {
   "cell_type": "markdown",
   "metadata": {},
   "source": [
    "## Birdsongs 08.- Processing Data Convert Data to Image\n",
    "\n",
    "\n",
    "Convierte cada uno de los ficheros de datos en las imágenes del espectrograma, para utilizarlas en el entrenamiento del modelo.\n",
    "\n",
    "\n",
    "El espectrograma es el resultado de calcular el espectro de tramas enventanadas de una señal. Resulta una gráfica tridimensional que representa la energía del contenido frecuencial de la señal según va variando ésta a lo largo del tiempo.\n",
    "Espectrograma de la oración del checo Strč prst skrz krk que significa 'Introduce el dedo a través de la garganta', en el espectrograma se aprecian claramente los fonos que la componen.\n",
    "\n",
    "Se usa, por ejemplo, para identificar sonidos fonéticos y procesado del habla, para el radar/sonar. El instrumento que genera espectrogramas es llamado espectrómetro. También existe software que puede crear espectrogramas.\n",
    "\n",
    "El espectrograma es una herramienta básica de representación que se utiliza para el análisis de las señales eléctricas, de comunicaciones, y cualquier señal audiovisual en su contenido frecuencial.\n",
    "\n",
    "Es una representación en tres dimensiones, temporal, frecuencial y amplitud de la distribución de energía de una señal.\n",
    "\n",
    "La representación del espectro de una señal en el dominio frecuencial puede ayudar a entender mejor su contenido, que con una representación en el dominio temporal.\n",
    "\n",
    "El espectrograma se puede interpretar como una proyección en dos dimensiones de una sucesión de Transformadas de Fourier de tramas consecutivas, donde la energía y el contenido frecuencial de la señal va variando a lo largo del tiempo. \n",
    "\n",
    "https://es.wikipedia.org/wiki/Espectrograma\n"
   ]
  },
  {
   "cell_type": "markdown",
   "metadata": {},
   "source": [
    "### Librerías\n",
    "\n",
    "Cargamos las librerías a utilizar en el notebook"
   ]
  },
  {
   "cell_type": "code",
   "execution_count": 1,
   "metadata": {},
   "outputs": [],
   "source": [
    "from __future__ import print_function\n",
    "import numpy as np\n",
    "import librosa\n",
    "import librosa.display\n",
    "import os\n",
    "import shutil\n"
   ]
  },
  {
   "cell_type": "markdown",
   "metadata": {},
   "source": [
    "### Recupera directorios\n",
    "\n",
    "Los ficheros de datos se encuentran localizados en un directorio raíz, y dentro del correspondiente subdirectorio al que pertenece la especie. Realizando un dir de los directorios contenidos en el directorio raíz, tendremos una lista con todas las especies que forman parte del dataset\n"
   ]
  },
  {
   "cell_type": "code",
   "execution_count": 2,
   "metadata": {},
   "outputs": [],
   "source": [
    "# cada directorio corresponde a set de datos (train, validation, test)\n",
    "def get_set_names(path):  \n",
    "    set_names = os.listdir(path)\n",
    "    return set_names"
   ]
  },
  {
   "cell_type": "code",
   "execution_count": 3,
   "metadata": {},
   "outputs": [],
   "source": [
    "# cada directorio corresponde a una especie\n",
    "def get_specie_names(path):  \n",
    "    specie_names = os.listdir(path)\n",
    "    return specie_names"
   ]
  },
  {
   "cell_type": "markdown",
   "metadata": {},
   "source": [
    "### Procesa ficheros de datos\n",
    "\n",
    "Va procesando los ficheros de datos que existen en cada subdirectorio y va creando un directorio de datos, con las imagenes de cada una de las grabaciones\n"
   ]
  },
  {
   "cell_type": "code",
   "execution_count": 4,
   "metadata": {},
   "outputs": [],
   "source": [
    "def data_to_image(datapath, imagepath):\n",
    "    # crea el directorio raiz de datos si no existe\n",
    "    if not os.path.exists(imagepath):\n",
    "        os.mkdir(imagepath)\n",
    "\n",
    "    # recupera la lista de especies (directorios) a tratar\n",
    "    specie_names = get_specie_names(datapath)\n",
    "    number_species = len(specie_names)\n",
    "   \n",
    "    # itera sobre cada directorio y va generando una imagen por cada fichero\n",
    "    for idx, specie_name in enumerate(specie_names):\n",
    "        # crea directorio destino de la especie, si no existe\n",
    "        imagedir = os.path.join(imagepath, specie_name)\n",
    "        if not os.path.exists(imagedir):\n",
    "            os.mkdir(imagedir)\n",
    "\n",
    "        # recupera los ficheros de datos existentes para esta especie\n",
    "        specie_dir = os.path.join(datapath, specie_name)\n",
    "        specie_files = os.listdir(specie_dir)\n",
    "        number_files = len(specie_files)\n",
    "        number_load = number_files\n",
    "        \n",
    "        print(' Specie name = {:14s} - {:3d}'.format(specie_name,idx),\n",
    "               \", \",number_files,\" files in this specie\", sep=\" \", end='\\r', flush=True)\n",
    "\n",
    "        # itera sobre la lista de ficheros de dato recuperados\n",
    "        printevery = 20\n",
    "        \n",
    "        for idx2, infilename in enumerate(specie_files):\n",
    "            # fichero datos origen\n",
    "            file_path = specie_dir + '/' + infilename\n",
    "            file = np.load(file_path)\n",
    "\n",
    "            # si no se ha generado previamente, procedemos a generarlo    \n",
    "            imagefile = imagedir + '/' + infilename[:infilename.find('.')] + '.png'\n",
    "            \n",
    "            if not os.path.isfile(imagefile):\n",
    "                image = librosa.display.specshow(file)\n",
    "                image.figure.savefig(imagefile)\n",
    "                image.clear()\n",
    "                \n",
    "            # muestra avance\n",
    "            if (0 == idx2 % printevery):\n",
    "                print('\\r Processing specie: {:14s} ({:2d} of {:2d} species)'.format(specie_name,idx+1,number_species),\n",
    "                       \", file \",idx2+1,\" of \",number_load,\": \",file_path, sep=\" \", end='\\r', flush=True)\n"
   ]
  },
  {
   "cell_type": "markdown",
   "metadata": {},
   "source": [
    "### Generamos imagenes\n",
    "Convertimos los archivos de datos en imagenes en formatos png. "
   ]
  },
  {
   "cell_type": "code",
   "execution_count": 5,
   "metadata": {
    "scrolled": true
   },
   "outputs": [
    {
     "name": "stdout",
     "output_type": "stream",
     "text": [
      " Processing specie: Phylloscopus ibericus (29 of 103 species) , file  1  of  1242 ./data/mels/Lullula arborea/XC426143_mel_16.npy.npyl_10.npyyypynpyypyls/Motacilla flava/XC358338_mel_4.npy:  ./data/mels/Motacilla flava/XC189938_mel_20.npy, file  641  of  2253 :  ./data/mels/Motacilla flava/XC186217_mel_7.npy  of  2253 :  ./data/mels/Motacilla flava/XC208701_mel_6.npy:  ./data/mels/Motacilla flava/XC317461_mel_1.npy./data/mels/Motacilla flava/XC386495_mel_1.npy ./data/mels/Motacilla flava/XC322710_mel_9.npy 1261  of  1846 :  ./data/mels/Acrocephalus schoenobaenus/XC367375_mel_12.npy, file  1301  of  1846 :  ./data/mels/Acrocephalus schoenobaenus/XC315965_mel_10.npy41  of  2310 :  ./data/mels/Cuculus canorus/XC25629_mel_12.npy :  ./data/mels/Cuculus canorus/XC287166_mel_14.npy261  of  2310 :  ./data/mels/Cuculus canorus/XC306182_mel_3.npy, file  181  of  1640 :  ./data/mels/Asio otus/XC306088_mel_14.npy , file  721  of  1640 :  ./data/mels/Asio otus/XC378296_mel_6.npy :  ./data/mels/Asio otus/XC254826_mel_23.npy  of  2529 :  ./data/mels/Corvus corax/XC153940_mel_13.npy, file  1441  of  2529 :  ./data/mels/Corvus corax/XC405393_mel_11.npy  of  2529 :  ./data/mels/Corvus corax/XC333535_mel_8.npy ./data/mels/Corvus corax/XC205111_mel_3.npy, file  2281  of  2529 :  ./data/mels/Corvus corax/XC169999_mel_1.npy ./data/mels/Dendrocopos major/XC198902_mel_10.npy ./data/mels/Dendrocopos major/XC251830_mel_7.npy  of  3081 :  ./data/mels/Dendrocopos major/XC374474_mel_5.npy  of  3081 :  ./data/mels/Dendrocopos major/XC217628_mel_11.npy:  ./data/mels/Parus major/XC154709_mel_2.npy  of  3394 :  ./data/mels/Parus major/XC170640_mel_2.npy1921  of  3394 :  ./data/mels/Parus major/XC127755_mel_3.npy, file  1961  of  3394 :  ./data/mels/Parus major/XC412381_mel_9.npy , file  2061  of  3394 :  ./data/mels/Parus major/XC170909_mel_5.npy of  3394 :  ./data/mels/Parus major/XC28219_mel_1.npy:  ./data/mels/Parus major/XC316734_mel_7.npy1951 :  ./data/mels/Certhia brachydactyla/XC123400_mel_19.npy :  ./data/mels/Certhia brachydactyla/XC233799_mel_4.npy 1741  of  1951 :  ./data/mels/Certhia brachydactyla/XC234089_mel_9.npy ./data/mels/Certhia brachydactyla/XC343435_mel_1.npy./data/mels/Cettia cetti/XC195676_mel_4.npy ./data/mels/Cettia cetti/XC417775_mel_4.npy 1718 :  ./data/mels/Cettia cetti/XC330195_mel_7.npy./data/mels/Cettia cetti/XC380212_mel_8.npy  of  1718 :  ./data/mels/Cettia cetti/XC434011_mel_3.npy./data/mels/Cettia cetti/XC288657_mel_21.npy 1141  of  1718 :  ./data/mels/Cettia cetti/XC211936_mel_6.npy of  1718 :  ./data/mels/Cettia cetti/XC182288_mel_26.npy./data/mels/Cettia cetti/XC269820_mel_1.npy2074 :  ./data/mels/Acrocephalus arundinaceus/XC401731_mel_7.npy1161  of  2074 :  ./data/mels/Acrocephalus arundinaceus/XC431804_mel_6.npy, file  2021  of  2074 :  ./data/mels/Acrocephalus arundinaceus/XC142676_mel_13.npy  of  2074 :  ./data/mels/Acrocephalus arundinaceus/XC320132_mel_6.npy, file  401  of  3149 :  ./data/mels/Chloris chloris/XC381181_mel_14.npy, file  581  of  3149 :  ./data/mels/Chloris chloris/XC129442_mel_5.npy3149 :  ./data/mels/Chloris chloris/XC417101_mel_2.npy921  of  3149 :  ./data/mels/Chloris chloris/XC283450_mel_6.npy 3149 :  ./data/mels/Chloris chloris/XC381181_mel_23.npy, file  1001  of  3149 :  ./data/mels/Chloris chloris/XC310589_mel_8.npy, file  1201  of  3149 :  ./data/mels/Chloris chloris/XC376834_mel_12.npy :  ./data/mels/Chloris chloris/XC212562_mel_1.npy1441  of  3149 :  ./data/mels/Chloris chloris/XC377931_mel_7.npy, file  1461  of  3149 :  ./data/mels/Chloris chloris/XC406555_mel_12.npy of  3149 :  ./data/mels/Chloris chloris/XC356348_mel_1.npy, file  1521  of  3149 :  ./data/mels/Chloris chloris/XC278170_mel_15.npy:  ./data/mels/Chloris chloris/XC326194_mel_25.npy, file  1881  of  3149 :  ./data/mels/Chloris chloris/XC367534_mel_4.npy 2301  of  3149 :  ./data/mels/Chloris chloris/XC431421_mel_9.npy :  ./data/mels/Turdus merula/XC112216_mel_2.npy :  ./data/mels/Turdus merula/XC433750_mel_10.npy3020 :  ./data/mels/Turdus merula/XC330959_mel_4.npy:  ./data/mels/Turdus merula/XC372369_mel_12.npy, file  561  of  3020 :  ./data/mels/Turdus merula/XC364854_mel_2.npy :  ./data/mels/Turdus merula/XC307896_mel_17.npy, file  621  of  3020 :  ./data/mels/Turdus merula/XC413081_mel_10.npy 701  of  3020 :  ./data/mels/Turdus merula/XC375989_mel_1.npy :  ./data/mels/Turdus merula/XC75054_mel_5.npy  of  3020 :  ./data/mels/Turdus merula/XC297760_mel_10.npy./data/mels/Turdus merula/XC318077_mel_15.npy541  of  1370 :  ./data/mels/Dryobates minor/XC150516_mel_2.npy  of  1370 :  ./data/mels/Dryobates minor/XC217062_mel_13.npy 1101  of  1370 :  ./data/mels/Dryobates minor/XC131239_mel_5.npy1370 :  ./data/mels/Dryobates minor/XC153753_mel_8.npy :  ./data/mels/Dryobates minor/XC402696_mel_1.npy221  of  2430 :  ./data/mels/Passer domesticus/XC193521_mel_10.npy:  ./data/mels/Passer domesticus/XC380687_mel_1.npy 261  of  2430 :  ./data/mels/Passer domesticus/XC246976_mel_24.npy of  2430 :  ./data/mels/Passer domesticus/XC112647_mel_3.npy, file  481  of  2430 :  ./data/mels/Passer domesticus/XC361642_mel_9.npy2430 :  ./data/mels/Passer domesticus/XC420852_mel_11.npy of  2430 :  ./data/mels/Passer domesticus/XC283864_mel_17.npy 821  of  2430 :  ./data/mels/Passer domesticus/XC391822_mel_8.npy, file  861  of  2430 :  ./data/mels/Passer domesticus/XC376632_mel_4.npy 2430 :  ./data/mels/Passer domesticus/XC271735_mel_1.npy, file  941  of  2430 :  ./data/mels/Passer domesticus/XC237291_mel_1.npy1561  of  2430 :  ./data/mels/Passer domesticus/XC208234_mel_5.npy ./data/mels/Passer domesticus/XC340927_mel_1.npy of  2430 :  ./data/mels/Passer domesticus/XC376476_mel_6.npy1901  of  2430 :  ./data/mels/Passer domesticus/XC145563_mel_15.npy, file  2021  of  2430 :  ./data/mels/Passer domesticus/XC377559_mel_1.npy ./data/mels/Anthus pratensis/XC209237_mel_14.npy of  1292 :  ./data/mels/Anthus pratensis/XC147882_mel_1.npy  of  1292 :  ./data/mels/Anthus pratensis/XC319395_mel_1.npy./data/mels/Serinus serinus/XC378178_mel_26.npy61  of  1914 :  ./data/mels/Serinus serinus/XC140462_mel_13.npy 201  of  1914 :  ./data/mels/Serinus serinus/XC346497_mel_7.npy1914 :  ./data/mels/Serinus serinus/XC301937_mel_13.npy of  1914 :  ./data/mels/Serinus serinus/XC376662_mel_2.npy841  of  1425 :  ./data/mels/Grus grus/XC342052_mel_4.npy :  ./data/mels/Actitis hypoleucos/XC434766_mel_7.npy 61  of  977 :  ./data/mels/Actitis hypoleucos/XC401805_mel_18.npy:  ./data/mels/Actitis hypoleucos/XC338208_mel_4.npy./data/mels/Gallinula chloropus/XC423429_mel_17.npy 1683 :  ./data/mels/Luscinia svecica/XC291526_mel_21.npy , file  1  of  3700 :  ./data/mels/Sylvia atricapilla/XC401725_mel_8.npy :  ./data/mels/Sylvia atricapilla/XC155371_mel_4.npy ./data/mels/Sylvia atricapilla/XC374698_mel_11.npy  of  2419 :  ./data/mels/Acrocephalus scirpaceus/XC137673_mel_6.npy ./data/mels/Acrocephalus scirpaceus/XC211881_mel_20.npy, file  1661  of  2419 :  ./data/mels/Acrocephalus scirpaceus/XC328603_mel_7.npy :  ./data/mels/Corvus corone/XC316168_mel_2.npy, file  681  of  1109 :  ./data/mels/Corvus corone/XC347427_mel_2.npy  of  1109 :  ./data/mels/Corvus corone/XC165643_mel_1.npy./data/mels/Corvus corone/XC388223_mel_9.npy./data/mels/Acrocephalus palustris/XC319356_mel_5.npy of  1527 :  ./data/mels/Ficedula parva/XC319360_mel_6.npy, file  601  of  1527 :  ./data/mels/Ficedula parva/XC397463_mel_9.npy 761  of  1527 :  ./data/mels/Ficedula parva/XC417929_mel_13.npy 461  of  1359 :  ./data/mels/Carpodacus erythrinus/XC199242_mel_10.npy./data/mels/Carpodacus erythrinus/XC324048_mel_12.npy  of  1359 :  ./data/mels/Carpodacus erythrinus/XC181309_mel_22.npy961  of  1359 :  ./data/mels/Carpodacus erythrinus/XC318411_mel_2.npy:  ./data/mels/Carpodacus erythrinus/XC318411_mel_5.npy  of  2555 :  ./data/mels/Poecile palustris/XC382440_mel_2.npy of  2555 :  ./data/mels/Poecile palustris/XC405977_mel_19.npy2555 :  ./data/mels/Poecile palustris/XC236838_mel_6.npy ./data/mels/Poecile palustris/XC25721_mel_19.npy, file  1241  of  2555 :  ./data/mels/Poecile palustris/XC297879_mel_8.npy  of  2555 :  ./data/mels/Poecile palustris/XC129491_mel_14.npy of  1735 :  ./data/mels/Lullula arborea/XC372483_mel_4.npy :  ./data/mels/Phylloscopus ibericus/XC373395_mel_2.npy\r"
     ]
    },
    {
     "name": "stdout",
     "output_type": "stream",
     "text": [
      " Processing specie: Coccothraustes coccothraustes (103 of 103 species) , file  1621  of  1635 :  ./data/mels/Coccothraustes coccothraustes/XC403362_mel_11.npyloscopus ibericus/XC304480_mel_26.npy :  ./data/mels/Phylloscopus ibericus/XC412884_mel_2.npy  of  1242 :  ./data/mels/Phylloscopus ibericus/XC131700_mel_15.npy./data/mels/Phylloscopus ibericus/XC364886_mel_7.npy ./data/mels/Phylloscopus collybita/XC314051_mel_5.npy ./data/mels/Phylloscopus collybita/XC135425_mel_8.npy 2594 :  ./data/mels/Prunella modularis/XC243619_mel_3.npy 61  of  3283 :  ./data/mels/Emberiza citrinella/XC305969_mel_26.npy 963 :  ./data/mels/Phylloscopus inornatus/XC337914_mel_6.npy  of  963 :  ./data/mels/Phylloscopus inornatus/XC335732_mel_10.npy1480 :  ./data/mels/Crex crex/XC391771_mel_3.npy 1480 :  ./data/mels/Crex crex/XC183276_mel_14.npy :  ./data/mels/Sylvia borin/XC412694_mel_10.npy./data/mels/Sylvia borin/XC368373_mel_12.npy ./data/mels/Sylvia borin/XC397399_mel_21.npy:  ./data/mels/Coloeus monedula/XC440670_mel_12.npy:  ./data/mels/Coloeus monedula/XC396035_mel_1.npy of  1215 :  ./data/mels/Coloeus monedula/XC263621_mel_12.npy :  ./data/mels/Coloeus monedula/XC194177_mel_22.npy3086 :  ./data/mels/Troglodytes troglodytes/XC301296_mel_9.npy , file  1581  of  3086 :  ./data/mels/Troglodytes troglodytes/XC110321_mel_9.npy:  ./data/mels/Troglodytes troglodytes/XC379457_mel_4.npy 1741  of  3086 :  ./data/mels/Troglodytes troglodytes/XC430600_mel_2.npy, file  2181  of  3086 :  ./data/mels/Troglodytes troglodytes/XC199766_mel_12.npy ./data/mels/Troglodytes troglodytes/XC189693_mel_15.npy2301  of  3086 :  ./data/mels/Troglodytes troglodytes/XC299564_mel_1.npy ./data/mels/Muscicapa striata/XC240489_mel_5.npy./data/mels/Muscicapa striata/XC327474_mel_12.npy./data/mels/Turdus iliacus/XC211865_mel_1.npy2173 :  ./data/mels/Turdus iliacus/XC404522_mel_7.npy :  ./data/mels/Turdus iliacus/XC377988_mel_13.npy :  ./data/mels/Turdus iliacus/XC213440_mel_8.npy, file  2781  of  2971 :  ./data/mels/Strix aluco/XC340734_mel_1.npy, file  2821  of  2971 :  ./data/mels/Strix aluco/XC167456_mel_6.npy2971 :  ./data/mels/Strix aluco/XC113974_mel_13.npy:  ./data/mels/Strix aluco/XC152468_mel_10.npy2961  of  2971 :  ./data/mels/Strix aluco/XC438158_mel_12.npy 2094 :  ./data/mels/Rallus aquaticus/XC377657_mel_10.npy  of  1641 :  ./data/mels/Phoenicurus ochruros/XC148957_mel_19.npy 1641 :  ./data/mels/Phoenicurus ochruros/XC416751_mel_10.npy, file  741  of  1641 :  ./data/mels/Phoenicurus ochruros/XC319363_mel_10.npy1328 :  ./data/mels/Linaria cannabina/XC362710_mel_19.npy ./data/mels/Linaria cannabina/XC438418_mel_1.npy  of  1328 :  ./data/mels/Linaria cannabina/XC265202_mel_3.npy  of  2138 :  ./data/mels/Ficedula hypoleuca/XC27517_mel_9.npy, file  101  of  2138 :  ./data/mels/Ficedula hypoleuca/XC334307_mel_6.npy ./data/mels/Ficedula hypoleuca/XC298309_mel_1.npy 221  of  2138 :  ./data/mels/Ficedula hypoleuca/XC27526_mel_24.npy :  ./data/mels/Anthus trivialis/XC131383_mel_12.npy , file  1201  of  1921 :  ./data/mels/Anthus trivialis/XC208411_mel_6.npy  of  1921 :  ./data/mels/Anthus trivialis/XC156390_mel_5.npy ./data/mels/Anthus trivialis/XC321512_mel_11.npy1761  of  1921 :  ./data/mels/Anthus trivialis/XC421921_mel_5.npy./data/mels/Anthus trivialis/XC270151_mel_6.npy./data/mels/Anthus trivialis/XC316603_mel_10.npy ./data/mels/Phylloscopus bonelli/XC298053_mel_3.npy  of  1684 :  ./data/mels/Phylloscopus bonelli/XC392907_mel_4.npy  of  1751 :  ./data/mels/Motacilla alba/XC131072_mel_8.npy:  ./data/mels/Phoenicurus phoenicurus/XC236829_mel_2.npy ./data/mels/Cyanistes caeruleus/XC216161_mel_4.npy\r"
     ]
    }
   ],
   "source": [
    "imagepath = './image/mels'\n",
    "datapath= './data/mels'\n",
    "\n",
    "# borra y crea el directorio raiz donde vamos a copiar los datos de train, validation y test\n",
    "#if os.path.exists(imagepath):\n",
    "#    shutil.rmtree(imagepath)\n",
    "    \n",
    "#os.mkdir(imagepath)\n",
    "\n",
    "data_to_image(datapath, imagepath)\n",
    "\n",
    "\n",
    "# recupera los directorios de los sets de train, validation y test\n",
    "#set_names = get_set_names(datapath)\n",
    "\n",
    "#if len(set_names) > 0:\n",
    "#    for s in set_names:\n",
    "#        data_to_image(os.path.join(datapath, s), os.path.join(imagepath, s))\n",
    "    "
   ]
  },
  {
   "cell_type": "code",
   "execution_count": null,
   "metadata": {},
   "outputs": [],
   "source": [
    "# https://github.com/risenW/medium_tutorial_notebooks/blob/master/dogs-vs-cats-keras-implementation.ipynb"
   ]
  }
 ],
 "metadata": {
  "kernelspec": {
   "display_name": "Python 3",
   "language": "python",
   "name": "python3"
  },
  "language_info": {
   "codemirror_mode": {
    "name": "ipython",
    "version": 3
   },
   "file_extension": ".py",
   "mimetype": "text/x-python",
   "name": "python",
   "nbconvert_exporter": "python",
   "pygments_lexer": "ipython3",
   "version": "3.6.6"
  }
 },
 "nbformat": 4,
 "nbformat_minor": 2
}
