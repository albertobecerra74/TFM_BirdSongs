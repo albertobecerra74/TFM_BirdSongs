{
 "cells": [
  {
   "cell_type": "markdown",
   "metadata": {},
   "source": [
    "# Birdsongs 07.- Preprocesando Datos - Cortando Datos\n",
    "\n",
    "\n",
    "Permite, a partir de un directorio de datos de audios ya transformados según el notebook **Birdsongs_06_Preprocesando_Datos_Convirtiendo_Audio_a_Datos**, que corresponden a un espectrograma o periodograma, dividir estos en matrices de menor tamaño.\n",
    "\n",
    "La estructura del repositorio de destino se mantiene respecto al de origen, un directorio por cada especie tratada.\n",
    "\n",
    "![directorio](./resources/directorioaudios.png)\n",
    "\n",
    "El resultado de este notebook es un repositorio de destino con los datos dividos en arrays de menor longitud.\n"
   ]
  },
  {
   "cell_type": "markdown",
   "metadata": {},
   "source": [
    "## 1.- Librerías\n",
    "\n",
    "Cargamos las librerías de uso común en el notebook"
   ]
  },
  {
   "cell_type": "code",
   "execution_count": 1,
   "metadata": {},
   "outputs": [],
   "source": [
    "# importar librerías\n",
    "import numpy as np\n",
    "import os\n",
    "import random\n"
   ]
  },
  {
   "cell_type": "markdown",
   "metadata": {},
   "source": [
    "## 2.- Funciones\n",
    "\n",
    "Cargamos las funciones utilizadas en el notebook"
   ]
  },
  {
   "cell_type": "markdown",
   "metadata": {},
   "source": [
    "### Recupera directorios\n",
    "\n",
    "Los ficheros de datos se encuentran localizados en un directorio raíz, y dentro del correspondiente subdirectorio al que pertenece la especie. Realizando un dir de los directorios contenidos en el directorio raíz, tendremos una lista con todas las especies que forman parte del dataset\n"
   ]
  },
  {
   "cell_type": "code",
   "execution_count": 4,
   "metadata": {},
   "outputs": [],
   "source": [
    "#----------------------------------------------------------------------------\n",
    "# get_specie_names(path)\n",
    "#  argumentos: \n",
    "#      path: directorio de audios\n",
    "#----------------------------------------------------------------------------\n",
    "def get_specie_names(path, size):  \n",
    "    specie_names = os.listdir(path)\n",
    "    \n",
    "    if size != 0:\n",
    "        specie_names = random.sample(specie_names, size)\n",
    "        \n",
    "    print(specie_names)\n",
    "    \n",
    "    return specie_names"
   ]
  },
  {
   "cell_type": "markdown",
   "metadata": {},
   "source": [
    "### Procesa ficheros de datos\n",
    "\n",
    "Va procesando los ficheros de datos que existen en cada subdirectorio y va creando un directorio de datos, con los ficheros numpy conteniendo la información de la grabación. Hay que especificar:\n",
    "\n",
    "* Tamaños del tramo\n",
    "* Tamaño del salto entre tramos\n",
    "* Número de especies\n"
   ]
  },
  {
   "cell_type": "code",
   "execution_count": 6,
   "metadata": {},
   "outputs": [],
   "source": [
    "#----------------------------------------------------------------------------\n",
    "# split_data(datapath, splitpath)\n",
    "#  argumentos: \n",
    "#      datapath: repositorio de datos origen\n",
    "#      splitpath: repositorio de datos divididos destino\n",
    "#----------------------------------------------------------------------------\n",
    "def split_data(datapath, splitpath):\n",
    "    # tamaños del split y salto entre splits (100 equivale aproximadamente a 1 segundo)\n",
    "    splitsize = 100 \n",
    "    splitskip = 100\n",
    "    \n",
    "    \n",
    "    # número de especies (si se deja sin informar trata todas las especies del directorio)\n",
    "    size = 0\n",
    "    \n",
    "    # crea el directorio raiz de datos si no existe\n",
    "    if not os.path.exists(splitpath):\n",
    "        os.mkdir(splitpath)\n",
    "\n",
    "    # recupera la lista de especies (directorios) a tratar\n",
    "    specie_names = get_specie_names(datapath, size)\n",
    "    number_species = len(specie_names)\n",
    "   \n",
    "    # itera sobre cada directorio y va troceando cada una de las canciones\n",
    "    for idx, specie_name in enumerate(specie_names):\n",
    "        # crea directorio destino de la especie, si no existe\n",
    "        splitdir = os.path.join(splitpath, specie_name)\n",
    "        if not os.path.exists(splitdir):\n",
    "            os.mkdir(splitdir)\n",
    "\n",
    "        # recupera los ficheros de datos existentes para esta especie\n",
    "        specie_dir = os.path.join(datapath, specie_name)\n",
    "        specie_files = os.listdir(specie_dir)\n",
    "        number_files = len(specie_files)\n",
    "        number_load = number_files\n",
    "        \n",
    "        print(' Specie name = {:14s} - {:3d}'.format(specie_name,idx),\n",
    "               \", \",number_files,\" files in this specie\", sep=\" \", end='\\r', flush=True)\n",
    "\n",
    "        # itera sobre la lista de ficheros de dato recuperados\n",
    "        printevery = 20\n",
    "        \n",
    "        for idx2, infilename in enumerate(specie_files):\n",
    "            # fichero datos origen\n",
    "            file_path = specie_dir + '/' + infilename\n",
    "            file = np.load(file_path)\n",
    "\n",
    "            # itera sobre el fichero y genera ficheros de tamaño N\n",
    "            pointer = 0\n",
    "            counter = 0\n",
    "            file_length = file.shape[1]\n",
    "                \n",
    "            while (pointer < file_length):\n",
    "                counter += 1\n",
    "\n",
    "                # nombre del fichero a generar\n",
    "                splitfile = splitdir + '/' + infilename[:infilename.find('.')] + \\\n",
    "                            '_' + str(counter) +'.npy'\n",
    "                \n",
    "                # controlamos que no lleguemos al final del array y el tamaño restante no cuadre\n",
    "                # con los límites. En este caso, nos quedamos con el final, aunque se puedan dar\n",
    "                # casos de solapamiento\n",
    "                if ((pointer + splitsize) > file_length):\n",
    "                    splitgram = file[:,pointer:file_length]\n",
    "                else:\n",
    "                    splitgram = file[:,pointer:pointer + splitsize]\n",
    "                    \n",
    "                # graba fichero numpy\n",
    "                np.save(splitfile, splitgram)\n",
    "                \n",
    "                # actualiza puntero de avance, saltando n valores\n",
    "                pointer = pointer + splitskip\n",
    "                \n",
    "            # muestra avance\n",
    "            if (0 == idx2 % printevery):\n",
    "                print('\\r Loading specie: {:14s} ({:2d} of {:2d} species)'.format(specie_name,idx+1,number_species),\n",
    "                       \", file \",idx2+1,\" of \",number_load,\": \",file_path, sep=\" \", end='\\r', flush=True)\n"
   ]
  },
  {
   "cell_type": "markdown",
   "metadata": {},
   "source": [
    "## 3.- Genera muestras de menor tamaño\n",
    "\n",
    "Procesa directorio con los datos en formato numpy y los divide en arrays de menor tamaño, salvándolos en un directorio distinto.\n"
   ]
  },
  {
   "cell_type": "code",
   "execution_count": 7,
   "metadata": {
    "scrolled": false
   },
   "outputs": [
    {
     "name": "stdout",
     "output_type": "stream",
     "text": [
      "['Anthus trivialis', 'Emberiza citrinella', 'Turdus iliacus', 'Parus major', 'Spinus spinus', 'Lullula arborea', 'Emberiza cirlus', 'Phylloscopus trochilus', 'Phoenicurus phoenicurus', 'Corvus corone']\n",
      " Loading specie: Corvus corone  (10 of 10 species) , file  101  of  116 :  ./data/mel/Corvus corone/XC154471_mel.npyus/XC202986_mel.npy\r"
     ]
    }
   ],
   "source": [
    "# directorio origen con los datos\n",
    "datapath= './data/mel'\n",
    "\n",
    "# directorio destino con los datos divididos\n",
    "splitpath = './data/meld'\n",
    "\n",
    "# procesa datos\n",
    "split_data(datapath, splitpath)\n"
   ]
  },
  {
   "cell_type": "code",
   "execution_count": null,
   "metadata": {},
   "outputs": [],
   "source": []
  }
 ],
 "metadata": {
  "kernelspec": {
   "display_name": "Python 3",
   "language": "python",
   "name": "python3"
  },
  "language_info": {
   "codemirror_mode": {
    "name": "ipython",
    "version": 3
   },
   "file_extension": ".py",
   "mimetype": "text/x-python",
   "name": "python",
   "nbconvert_exporter": "python",
   "pygments_lexer": "ipython3",
   "version": "3.6.7"
  }
 },
 "nbformat": 4,
 "nbformat_minor": 2
}
