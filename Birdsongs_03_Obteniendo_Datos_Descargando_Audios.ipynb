{
 "cells": [
  {
   "cell_type": "markdown",
   "metadata": {},
   "source": [
    "# Birdsongs - 03.- Obteniendo datos - Descargando Audios\n",
    "\n",
    "A partir del dataset procede a realizar las descargas de los ficheros de audio de [**Xeno-Canto**](https://www.xeno-canto.org).\n",
    "\n",
    "Con el dataset obtenido desde **Birdsongs_02_Obteniendo Datos_Seleccionando_especies**, descarga los audios en un directorio local, en formato mp3. Cada una de las grabaciones se descarga en un directorio con el nombre de la especie al que pertenece, quedando una estructura de directorios del tipo\n",
    "\n",
    "![audiofiles](./resources/directorioaudios.png)\n",
    "\n",
    "\n",
    "Los audios se encuentran almacenados en la web con la siguiente estructura de directorios:\n",
    "\n",
    "* https://www.xeno-canto.org/\n",
    "* ID de la grabación\n",
    "* download\n",
    "\n",
    "Ejemplo:\n",
    "https://www.xeno-canto.org/416171/download"
   ]
  },
  {
   "cell_type": "markdown",
   "metadata": {},
   "source": [
    "## 1.- Librerías\n",
    "\n",
    "Cargamos las librerías utilizadas en el notebook\n",
    "\n",
    "\n",
    "Para realizar la descarga de los ficheros desde la web vamos a utilizar \n",
    "[**wget**](https://www.gnu.org/software/wget/) que permite recuperar ficheros a través de internet\n",
    "\n",
    ">GNU Wget is a free software package for retrieving files using HTTP, HTTPS, FTP and FTPS the most widely-used Internet protocols. It is a non-interactive commandline tool, so it may easily be called from scripts, cron jobs, terminals without X-Windows support, etc.\n",
    "\n",
    "    pip install wget\n"
   ]
  },
  {
   "cell_type": "code",
   "execution_count": null,
   "metadata": {},
   "outputs": [],
   "source": [
    "# importar librerías\n",
    "import pandas as pd\n",
    "import wget\n",
    "import os\n"
   ]
  },
  {
   "cell_type": "markdown",
   "metadata": {},
   "source": [
    "## 2.- Funciones\n",
    "\n",
    "### Descarga ficheros\n",
    "\n",
    "Va iterando sobre el dataset y va recuperando las grabaciones"
   ]
  },
  {
   "cell_type": "code",
   "execution_count": null,
   "metadata": {},
   "outputs": [],
   "source": [
    "#----------------------------------------------------------------------------\n",
    "# download_songs(df_path, download_url, local_path)\n",
    "#  argumentos: \n",
    "#      df_path: fichero csv con el datset\n",
    "#      download_url: url de descarga\n",
    "#      local_path: directorio de destino donde se guardan los audios\n",
    "#----------------------------------------------------------------------------\n",
    "def download_songs(df_path, download_url, local_path):\n",
    "    print(\">>> downloading songs...\")\n",
    "\n",
    "    # cargar dataframe a partir de fichero csv\n",
    "    df_birdsongs = pd.read_csv(df_path)\n",
    "    \n",
    "    # crear el directorio local de descarga si no existe\n",
    "    if not os.path.isdir(local_path):\n",
    "        os.mkdir(local_path)    \n",
    "\n",
    "    # si el dataframe contiene grabaciones, procede a descargarlas de la web\n",
    "    if df_birdsongs.shape[0] > 0:\n",
    "        # iterar sobre el dataframe\n",
    "        for index, row in df_birdsongs.iterrows():\n",
    "            # Identificador de la grabación y nombre de la especie\n",
    "            ID = row[\"ID\"]\n",
    "            name = row[\"Name\"]\n",
    "\n",
    "            print(ID + '-' + name, end='\\r', flush=True)\n",
    "\n",
    "            # Crea el directorio de la especie si no existe\n",
    "            folder = os.path.join(local_path, name)\n",
    "            \n",
    "            if not os.path.exists(folder):\n",
    "                os.mkdir(folder)\n",
    "\n",
    "            # Descargar el fichero si no existe\n",
    "            file = ID + '.mp3'\n",
    "            filepath = os.path.join(local_path, name, file)\n",
    "\n",
    "            if not os.path.isfile(filepath):\n",
    "                download_file = os.path.join(download_url, ID[2:], 'download')\n",
    "\n",
    "                # descarga audio\n",
    "                try:\n",
    "                    wd = wget.download(download_file, filepath)\n",
    "\n",
    "                # controla excepciones\n",
    "                except Exception as inst:\n",
    "                    print(file)            \n",
    "                    print(\"Error al intentar la descarga: \", inst)\n",
    "                    \n",
    "                    pass                \n"
   ]
  },
  {
   "cell_type": "markdown",
   "metadata": {},
   "source": [
    "## 3.- Descarga audios\n",
    "\n",
    "Va iterando sobre el dataset, y para cada una de las grabaciones:\n",
    "\n",
    "* Comprueba si el directorio para la especie existe y si no lo crea\n",
    "* Comprueba si ya se ha descargado el audio correspondiente a la grabación (si existe no lo descarga)\n",
    "* Descarga la grabación\n",
    "\n",
    "En caso que el proceso se interrumpa, se podrá volver a lanzar tantas veces como sea necesario, y continuará descargando aquellos audios que estén pendientes.\n"
   ]
  },
  {
   "cell_type": "code",
   "execution_count": null,
   "metadata": {},
   "outputs": [],
   "source": [
    "%%time\n",
    "\n",
    "# fichero csv con el dataset\n",
    "df_path = 'Birdsongs_My_Birdsongs_Europe_20190107211642.csv'\n",
    "\n",
    "# URL de la página web donde se encuentran los audios\n",
    "download_url = 'https://www.xeno-canto.org/'  \n",
    "\n",
    "# directorio local de descarga\n",
    "local_path = './audio/' \n",
    "\n",
    "# descarga audios\n",
    "download_songs(df_path, download_url, local_path) \n"
   ]
  },
  {
   "cell_type": "code",
   "execution_count": null,
   "metadata": {},
   "outputs": [],
   "source": []
  },
  {
   "cell_type": "code",
   "execution_count": null,
   "metadata": {},
   "outputs": [],
   "source": []
  }
 ],
 "metadata": {
  "kernelspec": {
   "display_name": "Python 3",
   "language": "python",
   "name": "python3"
  },
  "language_info": {
   "codemirror_mode": {
    "name": "ipython",
    "version": 3
   },
   "file_extension": ".py",
   "mimetype": "text/x-python",
   "name": "python",
   "nbconvert_exporter": "python",
   "pygments_lexer": "ipython3",
   "version": "3.6.7"
  }
 },
 "nbformat": 4,
 "nbformat_minor": 2
}
