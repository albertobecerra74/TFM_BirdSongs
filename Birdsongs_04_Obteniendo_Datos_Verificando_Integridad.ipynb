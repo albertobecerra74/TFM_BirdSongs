{
 "cells": [
  {
   "cell_type": "markdown",
   "metadata": {},
   "source": [
    "# Birdsongs .- 04 Obteniendo Datos - Verificando Integridad\n",
    "\n",
    "\n",
    "Verifica que la información que tenemos en el dataset concuerda con la información que tenemos descargada respecto a los audios descargados. Es importante verificar la integridad de los audios descargados, ya que el dataset y los audios se realizan en dos procesos distintos:\n",
    "\n",
    "* Dataset: **Birdsongs_02_Obteniendo_Datos_Seleccionando_Especies**\n",
    "* Audios: **Birdsongs_03_Obteniendo_Datos_Descargando_ Audios**\n",
    "\n",
    "El resultado del notebook es verificar la integridad y realizar las correcciones oportunas si procede.\n"
   ]
  },
  {
   "cell_type": "markdown",
   "metadata": {},
   "source": [
    "## Librerías\n",
    "\n",
    "Carga las librerías a utilizar en el notebook"
   ]
  },
  {
   "cell_type": "code",
   "execution_count": 1,
   "metadata": {},
   "outputs": [],
   "source": [
    "import pandas as pd\n",
    "import os\n"
   ]
  },
  {
   "cell_type": "markdown",
   "metadata": {},
   "source": [
    "## Carga el dataset\n",
    "\n",
    "Carga el dataset con las grabaciones contenidas en él"
   ]
  },
  {
   "cell_type": "code",
   "execution_count": 6,
   "metadata": {},
   "outputs": [
    {
     "name": "stdout",
     "output_type": "stream",
     "text": [
      "Registros: 17370\n"
     ]
    },
    {
     "data": {
      "text/html": [
       "<div>\n",
       "<style scoped>\n",
       "    .dataframe tbody tr th:only-of-type {\n",
       "        vertical-align: middle;\n",
       "    }\n",
       "\n",
       "    .dataframe tbody tr th {\n",
       "        vertical-align: top;\n",
       "    }\n",
       "\n",
       "    .dataframe thead th {\n",
       "        text-align: right;\n",
       "    }\n",
       "</style>\n",
       "<table border=\"1\" class=\"dataframe\">\n",
       "  <thead>\n",
       "    <tr style=\"text-align: right;\">\n",
       "      <th></th>\n",
       "      <th>Common</th>\n",
       "      <th>Scientific</th>\n",
       "      <th>Length</th>\n",
       "      <th>Recordist</th>\n",
       "      <th>Date</th>\n",
       "      <th>Country</th>\n",
       "      <th>Location</th>\n",
       "      <th>Type</th>\n",
       "      <th>ID</th>\n",
       "      <th>Class</th>\n",
       "      <th>Seconds</th>\n",
       "      <th>Name</th>\n",
       "      <th>NameCat</th>\n",
       "      <th>nType</th>\n",
       "    </tr>\n",
       "  </thead>\n",
       "  <tbody>\n",
       "    <tr>\n",
       "      <th>0</th>\n",
       "      <td>Mallard</td>\n",
       "      <td>Anas platyrhynchos</td>\n",
       "      <td>0:20</td>\n",
       "      <td>Jordi Calvet</td>\n",
       "      <td>2018-10-26 00:00:00</td>\n",
       "      <td>Spain</td>\n",
       "      <td>Estany d'Ivars-Vilasana, El Pla d'Urgell, Cata...</td>\n",
       "      <td>alarm call, call, flight call</td>\n",
       "      <td>XC440476</td>\n",
       "      <td>0</td>\n",
       "      <td>20</td>\n",
       "      <td>Anas platyrhynchos</td>\n",
       "      <td>34</td>\n",
       "      <td>icall</td>\n",
       "    </tr>\n",
       "    <tr>\n",
       "      <th>1</th>\n",
       "      <td>Mallard</td>\n",
       "      <td>Anas platyrhynchos</td>\n",
       "      <td>0:08</td>\n",
       "      <td>Andres Angulo</td>\n",
       "      <td>2018-10-07 00:00:00</td>\n",
       "      <td>Germany</td>\n",
       "      <td>Hannover, Niedersachsen</td>\n",
       "      <td>female</td>\n",
       "      <td>XC437788</td>\n",
       "      <td>0</td>\n",
       "      <td>8</td>\n",
       "      <td>Anas platyrhynchos</td>\n",
       "      <td>34</td>\n",
       "      <td>others</td>\n",
       "    </tr>\n",
       "    <tr>\n",
       "      <th>2</th>\n",
       "      <td>Mallard</td>\n",
       "      <td>Anas platyrhynchos</td>\n",
       "      <td>0:04</td>\n",
       "      <td>Andres Angulo</td>\n",
       "      <td>2018-10-07 00:00:00</td>\n",
       "      <td>Germany</td>\n",
       "      <td>Hannover, Niedersachsen</td>\n",
       "      <td>female</td>\n",
       "      <td>XC437787</td>\n",
       "      <td>0</td>\n",
       "      <td>4</td>\n",
       "      <td>Anas platyrhynchos</td>\n",
       "      <td>34</td>\n",
       "      <td>others</td>\n",
       "    </tr>\n",
       "    <tr>\n",
       "      <th>3</th>\n",
       "      <td>Mallard</td>\n",
       "      <td>Anas platyrhynchos</td>\n",
       "      <td>0:14</td>\n",
       "      <td>Jorge Leitão</td>\n",
       "      <td>2018-09-15 00:00:00</td>\n",
       "      <td>Netherlands</td>\n",
       "      <td>Genneper Parken, Eindhoven, Noord-Brabant</td>\n",
       "      <td>call, female, male</td>\n",
       "      <td>XC436407</td>\n",
       "      <td>0</td>\n",
       "      <td>14</td>\n",
       "      <td>Anas platyrhynchos</td>\n",
       "      <td>34</td>\n",
       "      <td>icall</td>\n",
       "    </tr>\n",
       "    <tr>\n",
       "      <th>4</th>\n",
       "      <td>Mallard</td>\n",
       "      <td>Anas platyrhynchos</td>\n",
       "      <td>0:06</td>\n",
       "      <td>Jorge Leitão</td>\n",
       "      <td>2018-09-14 00:00:00</td>\n",
       "      <td>Netherlands</td>\n",
       "      <td>Genneper Parken, Eindhoven, Noord-Brabant</td>\n",
       "      <td>call, female</td>\n",
       "      <td>XC436331</td>\n",
       "      <td>0</td>\n",
       "      <td>6</td>\n",
       "      <td>Anas platyrhynchos</td>\n",
       "      <td>34</td>\n",
       "      <td>icall</td>\n",
       "    </tr>\n",
       "  </tbody>\n",
       "</table>\n",
       "</div>"
      ],
      "text/plain": [
       "    Common          Scientific Length      Recordist                 Date  \\\n",
       "0  Mallard  Anas platyrhynchos   0:20   Jordi Calvet  2018-10-26 00:00:00   \n",
       "1  Mallard  Anas platyrhynchos   0:08  Andres Angulo  2018-10-07 00:00:00   \n",
       "2  Mallard  Anas platyrhynchos   0:04  Andres Angulo  2018-10-07 00:00:00   \n",
       "3  Mallard  Anas platyrhynchos   0:14   Jorge Leitão  2018-09-15 00:00:00   \n",
       "4  Mallard  Anas platyrhynchos   0:06   Jorge Leitão  2018-09-14 00:00:00   \n",
       "\n",
       "       Country                                           Location  \\\n",
       "0        Spain  Estany d'Ivars-Vilasana, El Pla d'Urgell, Cata...   \n",
       "1      Germany                            Hannover, Niedersachsen   \n",
       "2      Germany                            Hannover, Niedersachsen   \n",
       "3  Netherlands          Genneper Parken, Eindhoven, Noord-Brabant   \n",
       "4  Netherlands          Genneper Parken, Eindhoven, Noord-Brabant   \n",
       "\n",
       "                            Type        ID  Class  Seconds  \\\n",
       "0  alarm call, call, flight call  XC440476      0       20   \n",
       "1                         female  XC437788      0        8   \n",
       "2                         female  XC437787      0        4   \n",
       "3             call, female, male  XC436407      0       14   \n",
       "4                   call, female  XC436331      0        6   \n",
       "\n",
       "                 Name  NameCat   nType  \n",
       "0  Anas platyrhynchos       34   icall  \n",
       "1  Anas platyrhynchos       34  others  \n",
       "2  Anas platyrhynchos       34  others  \n",
       "3  Anas platyrhynchos       34   icall  \n",
       "4  Anas platyrhynchos       34   icall  "
      ]
     },
     "execution_count": 6,
     "metadata": {},
     "output_type": "execute_result"
    }
   ],
   "source": [
    "# carga el dataset \n",
    "df_path = 'Birdsongs_My_Birdsongs_Europe_20181230103204.csv'\n",
    "df_birdsongs = pd.read_csv(df_path)\n",
    "\n",
    "# número de registros\n",
    "number_rows_df = df_birdsongs.shape[0]\n",
    "print(\"Registros:\", number_rows_df)\n",
    "\n",
    "# muestra los primeros\n",
    "df_birdsongs.head()\n"
   ]
  },
  {
   "cell_type": "markdown",
   "metadata": {},
   "source": [
    "## Chequea Dataset vs Repositorio descargas\n",
    "\n",
    "Verifica que todos los audios que tenemos en el dataset se han descargado y se encuentran en el repositorio."
   ]
  },
  {
   "cell_type": "code",
   "execution_count": 7,
   "metadata": {},
   "outputs": [
    {
     "name": "stdout",
     "output_type": "stream",
     "text": [
      ">>> Chequeando dataset vs repositorio descargas...\n",
      ">>> Proceso completado!!!\n",
      ">>> registros en dataset 17370\n",
      ">>> registros en repositorio 17370\n",
      ">>> Integridad OK!!!\n"
     ]
    }
   ],
   "source": [
    "# repositorio audios\n",
    "local_path = './audio/' \n",
    "\n",
    "# itera sobre el dataset y verifica que existe el audio\n",
    "print(\">>> Chequeando dataset vs repositorio descargas...\")        \n",
    "number_audios = 0\n",
    "\n",
    "for index, row in df_birdsongs.iterrows():\n",
    "    # Identificador y Nombre\n",
    "    ID = row[\"ID\"]\n",
    "    name = row[\"Name\"]\n",
    "\n",
    "    # nombre del fichero de audio        \n",
    "    file = ID + '.mp3'\n",
    "    filepath = os.path.join(local_path, name, file)    \n",
    "                \n",
    "    # verifica si existe\n",
    "    if not os.path.isfile(filepath):\n",
    "        print(\"Fichero audio no encontrado:\", ID + '-' + name)\n",
    "    else:\n",
    "        number_audios += 1\n",
    "\n",
    "# resultado\n",
    "print(\">>> Proceso completado!!!\")        \n",
    "print(\">>> registros en dataset\", number_rows_df)\n",
    "print(\">>> registros en repositorio\", number_audios)\n",
    "\n",
    "if number_rows_df != number_audios:\n",
    "    print(\">>> Integridad KO!!!\")        \n",
    "else:\n",
    "    print(\">>> Integridad OK!!!\")                \n",
    "        "
   ]
  },
  {
   "cell_type": "markdown",
   "metadata": {},
   "source": [
    "## Chequea Repositorio descargas vs Dataset\n",
    "\n",
    "Verifica que todos los audios que tenemos en el repositorio son los que tenemos en el dataset y que no sobra ninguno."
   ]
  },
  {
   "cell_type": "code",
   "execution_count": 8,
   "metadata": {},
   "outputs": [
    {
     "name": "stdout",
     "output_type": "stream",
     "text": [
      ">>> Chequeando repositorio descargas vs dataset...\n",
      ">>> Proceso completado!!!\n",
      ">>> registros en dataset 17370\n",
      ">>> registros en repositorio 17370\n",
      ">>> Integridad OK!!!\n"
     ]
    }
   ],
   "source": [
    "# repositorio con los audios\n",
    "audiopath = './audio'    \n",
    "\n",
    "# recupera la lista de especies (directorios) a tratar\n",
    "specie_names = os.listdir(audiopath)\n",
    "number_species = len(specie_names)\n",
    "\n",
    "# registros en el dataset\n",
    "records = list(df_birdsongs['ID'].values)\n",
    "  \n",
    "# itera sobre cada directorio y verifica si está en el dataset\n",
    "print(\">>> Chequeando repositorio descargas vs dataset...\")      \n",
    "\n",
    "number_audios = 0\n",
    "\n",
    "for idx, specie_name in enumerate(specie_names):\n",
    "    # recupera los ficheros de audio existentes para esta especie\n",
    "    specie_dir = os.path.join(audiopath, specie_name)\n",
    "    specie_files = os.listdir(specie_dir)\n",
    "        \n",
    "    for idx2, infilename in enumerate(specie_files):\n",
    "        # fichero audio origen\n",
    "        file = infilename[:infilename.find(\".\")]\n",
    "            \n",
    "        if file not in records:\n",
    "            print(\"Esta grabación no está en el dataset:\", file)\n",
    "        else:\n",
    "            number_audios += 1\n",
    "                \n",
    "# resultado\n",
    "print(\">>> Proceso completado!!!\")        \n",
    "print(\">>> registros en dataset\", number_rows_df)\n",
    "print(\">>> registros en repositorio\", number_audios)\n",
    "\n",
    "if number_rows_df != number_audios:\n",
    "    print(\">>> Integridad KO!!!\")        \n",
    "else:\n",
    "    print(\">>> Integridad OK!!!\")                  \n"
   ]
  },
  {
   "cell_type": "markdown",
   "metadata": {},
   "source": [
    "## Normaliza dataset\n",
    "\n",
    "En el dataset original existe una grabación XC126844 cuyo audio ya no está en la web, por lo que procedemos a eliminarlo y actualizamos el dataset."
   ]
  },
  {
   "cell_type": "code",
   "execution_count": null,
   "metadata": {},
   "outputs": [],
   "source": [
    "df_birdsongs.drop(df_birdsongs.loc[df_birdsongs['ID'] == 'XC126844'].index, axis = 0, inplace=True)"
   ]
  },
  {
   "cell_type": "markdown",
   "metadata": {},
   "source": [
    "## Actualiza dataset\n",
    "\n",
    "Actualiza el dataset si procede"
   ]
  },
  {
   "cell_type": "code",
   "execution_count": 9,
   "metadata": {},
   "outputs": [],
   "source": [
    "# Actualiza el dataset\n",
    "df_birdsongs.to_csv(df_path, index=False)"
   ]
  },
  {
   "cell_type": "code",
   "execution_count": null,
   "metadata": {},
   "outputs": [],
   "source": []
  }
 ],
 "metadata": {
  "kernelspec": {
   "display_name": "Python 3",
   "language": "python",
   "name": "python3"
  },
  "language_info": {
   "codemirror_mode": {
    "name": "ipython",
    "version": 3
   },
   "file_extension": ".py",
   "mimetype": "text/x-python",
   "name": "python",
   "nbconvert_exporter": "python",
   "pygments_lexer": "ipython3",
   "version": "3.6.7"
  }
 },
 "nbformat": 4,
 "nbformat_minor": 2
}
